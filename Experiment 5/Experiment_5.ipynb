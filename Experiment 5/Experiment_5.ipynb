{
  "cells": [
    {
      "cell_type": "code",
      "execution_count": 1,
      "metadata": {
        "id": "I369Pzqb2NWM"
      },
      "outputs": [],
      "source": [
        "## Experiment performed by:\n",
        "## Aditya Mendiratta 23/CS/027"
      ]
    },
    {
      "cell_type": "markdown",
      "metadata": {
        "id": "2pu95Vfs7Nf9"
      },
      "source": [
        "# Decision Tree Implementation from Scratch"
      ]
    },
    {
      "cell_type": "markdown",
      "metadata": {
        "id": "xDSj6Rxf2NWP"
      },
      "source": [
        "## Impporting Important Libraries"
      ]
    },
    {
      "cell_type": "code",
      "execution_count": 2,
      "metadata": {
        "id": "yCRXBRQz2NWQ"
      },
      "outputs": [],
      "source": [
        "import pandas as pd\n",
        "import numpy as np\n",
        "from sklearn.preprocessing import LabelEncoder\n",
        "from sklearn.model_selection import train_test_split\n",
        "from sklearn.metrics import accuracy_score, precision_score, recall_score, f1_score"
      ]
    },
    {
      "cell_type": "markdown",
      "metadata": {
        "id": "x6EmqmGu2NWR"
      },
      "source": [
        "## Importing Dataset"
      ]
    },
    {
      "cell_type": "code",
      "execution_count": 3,
      "metadata": {
        "id": "a8EMdfqP2-2P",
        "colab": {
          "base_uri": "https://localhost:8080/"
        },
        "outputId": "fc9c40f5-3f6f-43d6-a06f-c87567db5a60"
      },
      "outputs": [
        {
          "output_type": "stream",
          "name": "stdout",
          "text": [
            "Collecting ucimlrepo\n",
            "  Downloading ucimlrepo-0.0.7-py3-none-any.whl.metadata (5.5 kB)\n",
            "Requirement already satisfied: pandas>=1.0.0 in /usr/local/lib/python3.12/dist-packages (from ucimlrepo) (2.2.2)\n",
            "Requirement already satisfied: certifi>=2020.12.5 in /usr/local/lib/python3.12/dist-packages (from ucimlrepo) (2025.10.5)\n",
            "Requirement already satisfied: numpy>=1.26.0 in /usr/local/lib/python3.12/dist-packages (from pandas>=1.0.0->ucimlrepo) (2.0.2)\n",
            "Requirement already satisfied: python-dateutil>=2.8.2 in /usr/local/lib/python3.12/dist-packages (from pandas>=1.0.0->ucimlrepo) (2.9.0.post0)\n",
            "Requirement already satisfied: pytz>=2020.1 in /usr/local/lib/python3.12/dist-packages (from pandas>=1.0.0->ucimlrepo) (2025.2)\n",
            "Requirement already satisfied: tzdata>=2022.7 in /usr/local/lib/python3.12/dist-packages (from pandas>=1.0.0->ucimlrepo) (2025.2)\n",
            "Requirement already satisfied: six>=1.5 in /usr/local/lib/python3.12/dist-packages (from python-dateutil>=2.8.2->pandas>=1.0.0->ucimlrepo) (1.17.0)\n",
            "Downloading ucimlrepo-0.0.7-py3-none-any.whl (8.0 kB)\n",
            "Installing collected packages: ucimlrepo\n",
            "Successfully installed ucimlrepo-0.0.7\n"
          ]
        }
      ],
      "source": [
        "!pip install ucimlrepo\n",
        "from ucimlrepo import fetch_ucirepo"
      ]
    },
    {
      "cell_type": "code",
      "execution_count": 4,
      "metadata": {
        "id": "0m7gRRNQ3B_E"
      },
      "outputs": [],
      "source": [
        "adult = fetch_ucirepo(id=2)\n",
        "X = adult.data.features\n",
        "y = adult.data.targets"
      ]
    },
    {
      "cell_type": "markdown",
      "metadata": {
        "id": "BKRx63Iv2NWT"
      },
      "source": [
        "## Handling Missing Values"
      ]
    },
    {
      "cell_type": "code",
      "execution_count": 5,
      "metadata": {
        "colab": {
          "base_uri": "https://localhost:8080/"
        },
        "id": "xe6sgDbO3kDy",
        "outputId": "b3adf33c-0a22-4a04-e5f1-3de637fb6b79"
      },
      "outputs": [
        {
          "output_type": "stream",
          "name": "stdout",
          "text": [
            "age                 0\n",
            "workclass         963\n",
            "fnlwgt              0\n",
            "education           0\n",
            "education-num       0\n",
            "marital-status      0\n",
            "occupation        966\n",
            "relationship        0\n",
            "race                0\n",
            "sex                 0\n",
            "capital-gain        0\n",
            "capital-loss        0\n",
            "hours-per-week      0\n",
            "native-country    274\n",
            "dtype: int64\n"
          ]
        }
      ],
      "source": [
        "print(X.isnull().sum())\n",
        "\n",
        "X = X.dropna()\n",
        "y = y.loc[X.index]"
      ]
    },
    {
      "cell_type": "markdown",
      "metadata": {
        "id": "EDZH_cXb2NWV"
      },
      "source": [
        "## Encode categorical columns"
      ]
    },
    {
      "cell_type": "code",
      "execution_count": 6,
      "metadata": {
        "id": "IBXNtYlL3sK4"
      },
      "outputs": [],
      "source": [
        "encoders = {}\n",
        "for col in X.select_dtypes(include=['object']).columns:\n",
        "    le = LabelEncoder()\n",
        "    X.loc[:, col] = le.fit_transform(X[col])\n",
        "    encoders[col] = le"
      ]
    },
    {
      "cell_type": "markdown",
      "metadata": {
        "id": "AVvt3o2_2NWX"
      },
      "source": [
        "## Splitting the Dataset"
      ]
    },
    {
      "cell_type": "code",
      "execution_count": 7,
      "metadata": {
        "colab": {
          "base_uri": "https://localhost:8080/"
        },
        "id": "oW2rBNZj4Mmt",
        "outputId": "32ada3a4-9046-4030-f8fb-5c1188e5f8ab"
      },
      "outputs": [
        {
          "output_type": "stream",
          "name": "stdout",
          "text": [
            "(28572, 14) (9524, 14) (9525, 14)\n"
          ]
        }
      ],
      "source": [
        "# First split into train + temp (60/40)\n",
        "X_train, X_temp, y_train, y_temp = train_test_split(X, y, test_size=0.4, random_state=42)\n",
        "\n",
        "# Split temp into validation (20%) and test (20%)\n",
        "X_val, X_test, y_val, y_test = train_test_split(X_temp, y_temp, test_size=0.5, random_state=42)\n",
        "\n",
        "print(X_train.shape, X_val.shape, X_test.shape)"
      ]
    },
    {
      "cell_type": "markdown",
      "metadata": {
        "id": "nw4pCjlv2NWY"
      },
      "source": [
        "## Functions to Calculate Entropy and Gini"
      ]
    },
    {
      "cell_type": "code",
      "execution_count": 8,
      "metadata": {
        "id": "CoNM8Wl-4iTU"
      },
      "outputs": [],
      "source": [
        "# Entropy\n",
        "def entropy(y):\n",
        "    values, counts = np.unique(y, return_counts=True)\n",
        "    probs = counts / counts.sum()\n",
        "    return -np.sum(probs * np.log2(probs + 1e-9))  # avoid log(0)\n",
        "\n",
        "# Gini\n",
        "def gini(y):\n",
        "    values, counts = np.unique(y, return_counts=True)\n",
        "    probs = counts / counts.sum()\n",
        "    return 1 - np.sum(probs ** 2)"
      ]
    },
    {
      "cell_type": "markdown",
      "metadata": {
        "id": "JXgBMTb32NWY"
      },
      "source": [
        "## Function to decide the Best Split"
      ]
    },
    {
      "cell_type": "code",
      "execution_count": 9,
      "metadata": {
        "id": "1cdBglDR4kyT"
      },
      "outputs": [],
      "source": [
        "def best_split(X, y, criterion=\"gini\"):\n",
        "    best_feature, best_thresh, best_gain = None, None, 0\n",
        "    n_samples, n_features = X.shape\n",
        "    base_impurity = gini(y) if criterion == \"gini\" else entropy(y)\n",
        "\n",
        "    for feature in range(n_features):\n",
        "        values = np.sort(np.unique(X[:, feature]))\n",
        "        thresholds = (values[:-1] + values[1:]) / 2\n",
        "\n",
        "        for thresh in thresholds:\n",
        "            left_idx = X[:, feature] <= thresh\n",
        "            right_idx = X[:, feature] > thresh\n",
        "            if len(y[left_idx]) == 0 or len(y[right_idx]) == 0:\n",
        "                continue\n",
        "\n",
        "            left_imp = gini(y[left_idx]) if criterion == \"gini\" else entropy(y[left_idx])\n",
        "            right_imp = gini(y[right_idx]) if criterion == \"gini\" else entropy(y[right_idx])\n",
        "\n",
        "            n_left, n_right = len(y[left_idx]), len(y[right_idx])\n",
        "            weighted_impurity = (n_left * left_imp + n_right * right_imp) / n_samples\n",
        "            gain = base_impurity - weighted_impurity\n",
        "\n",
        "            if gain > best_gain:\n",
        "                best_gain = gain\n",
        "                best_feature = feature\n",
        "                best_thresh = thresh\n",
        "\n",
        "    return best_feature, best_thresh, best_gain\n"
      ]
    },
    {
      "cell_type": "markdown",
      "metadata": {
        "id": "oieB1uxA2NWZ"
      },
      "source": [
        "## Defining the Nodes of the Decision Tree"
      ]
    },
    {
      "cell_type": "code",
      "execution_count": 10,
      "metadata": {
        "id": "ebqAUpdY4nFq"
      },
      "outputs": [],
      "source": [
        "class Node:\n",
        "    def __init__(self, feature=None, threshold=None, left=None, right=None, value=None):\n",
        "        self.feature = feature\n",
        "        self.threshold = threshold\n",
        "        self.left = left\n",
        "        self.right = right\n",
        "        self.value = value\n",
        "\n",
        "    def is_leaf(self):\n",
        "        return self.value is not None"
      ]
    },
    {
      "cell_type": "code",
      "source": [
        "def create_leaf(y):\n",
        "    values, counts = np.unique(y, return_counts=True)\n",
        "    return Node(value=values[np.argmax(counts)])"
      ],
      "metadata": {
        "id": "WMLHF8AQ4NJv"
      },
      "execution_count": 11,
      "outputs": []
    },
    {
      "cell_type": "markdown",
      "metadata": {
        "id": "GNhNKkYa2NWb"
      },
      "source": [
        "## Function to Predict the Sample according to the given Tree"
      ]
    },
    {
      "cell_type": "code",
      "execution_count": 12,
      "metadata": {
        "id": "aon0WNcR4r3z"
      },
      "outputs": [],
      "source": [
        "def predict_sample(node, x):\n",
        "    if node.value is not None:\n",
        "        return node.value\n",
        "    if x[node.feature] <= node.threshold:\n",
        "        return predict_sample(node.left, x)\n",
        "    else:\n",
        "        return predict_sample(node.right, x)\n",
        "\n",
        "def predict(node, X):\n",
        "    return np.array([predict_sample(node, sample) for sample in X])"
      ]
    },
    {
      "cell_type": "markdown",
      "metadata": {
        "id": "AzStqRvp5AGI"
      },
      "source": [
        "## Pre-Pruning"
      ]
    },
    {
      "cell_type": "code",
      "execution_count": 17,
      "metadata": {
        "id": "Xa9gXAcB5D4Y"
      },
      "outputs": [],
      "source": [
        "def build_tree(X, y, depth=0, max_depth=None,\n",
        "               min_samples_split=2, min_impurity_decrease=1e-7,\n",
        "               criterion=\"gini\"):\n",
        "    n_samples, n_features = X.shape\n",
        "\n",
        "    if (len(np.unique(y)) == 1 or\n",
        "        (max_depth is not None and depth >= max_depth) or\n",
        "        n_samples < min_samples_split):\n",
        "        unique, counts = np.unique(y, return_counts=True)\n",
        "        majority = unique[np.argmax(counts)]\n",
        "        print(f\"{'|   ' * depth}Leaf depth={depth}, samples={n_samples}, class={majority}\")\n",
        "        return create_leaf(y)\n",
        "\n",
        "    feature, threshold, gain = best_split(X, y, criterion)\n",
        "    if feature is None or gain < min_impurity_decrease:\n",
        "        print(f\"{'|   ' * depth}Leaf depth={depth}, samples={n_samples}, gain={gain:.6f}\")\n",
        "        return create_leaf(y)\n",
        "\n",
        "    left_idx = X[:, feature] <= threshold\n",
        "    right_idx = X[:, feature] > threshold\n",
        "\n",
        "    if np.all(left_idx) or np.all(right_idx):\n",
        "        print(f\"{'|   ' * depth}Leaf depth={depth}, degenerate split\")\n",
        "        return create_leaf(y)\n",
        "\n",
        "    print(f\"{'|   ' * depth}Split depth={depth}, feature={feature}, threshold={threshold:.4f}, gain={gain:.6f}, samples={n_samples}\")\n",
        "\n",
        "    left_child = build_tree(X[left_idx], y[left_idx],\n",
        "                            depth + 1, max_depth,\n",
        "                            min_samples_split, min_impurity_decrease, criterion)\n",
        "    right_child = build_tree(X[right_idx], y[right_idx],\n",
        "                             depth + 1, max_depth,\n",
        "                             min_samples_split, min_impurity_decrease, criterion)\n",
        "\n",
        "    return Node(feature, threshold, left_child, right_child)"
      ]
    },
    {
      "cell_type": "markdown",
      "metadata": {
        "id": "54-k7mlI5Nfh"
      },
      "source": [
        "## Post-Pruning"
      ]
    },
    {
      "cell_type": "code",
      "execution_count": 14,
      "metadata": {
        "id": "HYp6QM0X5PoB"
      },
      "outputs": [],
      "source": [
        "def majority_class(y):\n",
        "    values, counts = np.unique(y, return_counts=True)\n",
        "    return values[np.argmax(counts)]\n",
        "\n",
        "def prune_tree(node, X_val, y_val):\n",
        "    if node.value is not None:\n",
        "        return node\n",
        "\n",
        "    node.left = prune_tree(node.left, X_val, y_val)\n",
        "    node.right = prune_tree(node.right, X_val, y_val)\n",
        "\n",
        "    preds_before = predict(node, X_val)\n",
        "    acc_before = (preds_before == y_val).mean()\n",
        "\n",
        "    backup_left, backup_right = node.left, node.right\n",
        "\n",
        "    node.left = node.right = None\n",
        "    node.value = majority_class(y_val)\n",
        "\n",
        "    preds_after = predict(node, X_val)\n",
        "    acc_after = (preds_after == y_val).mean()\n",
        "\n",
        "    if acc_after < acc_before:\n",
        "        node.left, node.right = backup_left, backup_right\n",
        "        node.value = None\n",
        "\n",
        "    return node"
      ]
    },
    {
      "cell_type": "markdown",
      "metadata": {
        "id": "U2_XtLAV54j6"
      },
      "source": [
        "<!-- ###**Evaluation** -->"
      ]
    },
    {
      "cell_type": "markdown",
      "metadata": {
        "id": "gHkOOUb46nuy"
      },
      "source": [
        "## Performing the Main Experiments"
      ]
    },
    {
      "cell_type": "code",
      "execution_count": 15,
      "metadata": {
        "id": "_llpr-d46pqA"
      },
      "outputs": [],
      "source": [
        "def clean_labels(arr):\n",
        "    return np.array([str(label).strip().replace(\".\", \"\") for label in arr])\n",
        "\n",
        "def evaluate(y_true, y_pred):\n",
        "    y_true = clean_labels(y_true)\n",
        "    y_pred = clean_labels(y_pred)\n",
        "    return {\n",
        "        \"Accuracy\": accuracy_score(y_true, y_pred),\n",
        "        \"Precision\": precision_score(y_true, y_pred, pos_label=\">50K\"),\n",
        "        \"Recall\": recall_score(y_true, y_pred, pos_label=\">50K\"),\n",
        "        \"F1\": f1_score(y_true, y_pred, pos_label=\">50K\")\n",
        "    }\n",
        "\n",
        "def train_eval(max_depth=None, criterion=\"gini\", min_samples_split=2, min_impurity_decrease=1e-7):\n",
        "    tree = build_tree(\n",
        "        X_train.values, y_train.values.ravel(),\n",
        "        max_depth=max_depth,\n",
        "        min_samples_split=min_samples_split,\n",
        "        min_impurity_decrease=min_impurity_decrease,\n",
        "        criterion=criterion\n",
        "    )\n",
        "    yv = predict(tree, X_val.values)\n",
        "    yt = predict(tree, X_test.values)\n",
        "    return tree, evaluate(y_val.values.ravel(), yv), evaluate(y_test.values.ravel(), yt)"
      ]
    },
    {
      "cell_type": "markdown",
      "metadata": {
        "id": "xb5WD9JF2NWg"
      },
      "source": [
        "## Comparing both Gini and Entropy"
      ]
    },
    {
      "cell_type": "code",
      "execution_count": 18,
      "metadata": {
        "colab": {
          "base_uri": "https://localhost:8080/"
        },
        "id": "NEywX8VT6sMR",
        "outputId": "df89be7b-e5ef-4683-b78f-f18a301fb52b"
      },
      "outputs": [
        {
          "output_type": "stream",
          "name": "stdout",
          "text": [
            "\n",
            "Training tree with criterion = gini ...\n",
            "Split depth=0, feature=7, threshold=0.5000, gain=0.033162, samples=28572\n",
            "|   Split depth=1, feature=4, threshold=12.5000, gain=0.036218, samples=11593\n",
            "|   |   Split depth=2, feature=10, threshold=5095.5000, gain=0.024691, samples=8154\n",
            "|   |   |   Split depth=3, feature=11, threshold=1782.5000, gain=0.009339, samples=7755\n",
            "|   |   |   |   Split depth=4, feature=4, threshold=8.5000, gain=0.007173, samples=7448\n",
            "|   |   |   |   |   Split depth=5, feature=1, threshold=0.5000, gain=0.011979, samples=1309\n",
            "|   |   |   |   |   |   Leaf depth=6, samples=58, class=<=50K\n",
            "|   |   |   |   |   |   Leaf depth=6, samples=1251, class=<=50K\n",
            "|   |   |   |   |   Split depth=5, feature=0, threshold=35.5000, gain=0.006141, samples=6139\n",
            "|   |   |   |   |   |   Leaf depth=6, samples=1992, class=<=50K\n",
            "|   |   |   |   |   |   Leaf depth=6, samples=4147, class=<=50K\n",
            "|   |   |   |   Split depth=4, feature=11, threshold=1989.5000, gain=0.149688, samples=307\n",
            "|   |   |   |   |   Split depth=5, feature=0, threshold=24.0000, gain=0.008832, samples=219\n",
            "|   |   |   |   |   |   Leaf depth=6, samples=2, class=>50K.\n",
            "|   |   |   |   |   |   Leaf depth=6, samples=217, class=>50K\n",
            "|   |   |   |   |   Split depth=5, feature=11, threshold=2212.5000, gain=0.042056, samples=88\n",
            "|   |   |   |   |   |   Leaf depth=6, samples=58, class=<=50K\n",
            "|   |   |   |   |   |   Leaf depth=6, samples=30, class=<=50K\n",
            "|   |   |   Split depth=3, feature=0, threshold=62.5000, gain=0.007441, samples=399\n",
            "|   |   |   |   Split depth=4, feature=12, threshold=55.5000, gain=0.003224, samples=360\n",
            "|   |   |   |   |   Split depth=5, feature=4, threshold=5.0000, gain=0.005863, samples=305\n",
            "|   |   |   |   |   |   Leaf depth=6, samples=4, class=>50K.\n",
            "|   |   |   |   |   |   Leaf depth=6, samples=301, class=>50K\n",
            "|   |   |   |   |   Split depth=5, feature=2, threshold=189441.5000, gain=0.020430, samples=55\n",
            "|   |   |   |   |   |   Leaf depth=6, samples=30, class=>50K\n",
            "|   |   |   |   |   |   Leaf depth=6, samples=25, class=>50K\n",
            "|   |   |   |   Split depth=4, feature=6, threshold=4.5000, gain=0.057010, samples=39\n",
            "|   |   |   |   |   Split depth=5, feature=1, threshold=4.5000, gain=0.089062, samples=16\n",
            "|   |   |   |   |   |   Leaf depth=6, samples=10, class=>50K\n",
            "|   |   |   |   |   |   Leaf depth=6, samples=6, class=>50K\n",
            "|   |   |   |   |   Split depth=5, feature=10, threshold=6640.5000, gain=0.088273, samples=23\n",
            "|   |   |   |   |   |   Leaf depth=6, samples=7, class=>50K.\n",
            "|   |   |   |   |   |   Leaf depth=6, samples=16, class=>50K\n",
            "|   |   Split depth=2, feature=10, threshold=5095.5000, gain=0.015195, samples=3439\n",
            "|   |   |   Split depth=3, feature=11, threshold=1794.0000, gain=0.011568, samples=2921\n",
            "|   |   |   |   Split depth=4, feature=12, threshold=31.0000, gain=0.009862, samples=2622\n",
            "|   |   |   |   |   Split depth=5, feature=2, threshold=68467.0000, gain=0.031955, samples=180\n",
            "|   |   |   |   |   |   Leaf depth=6, samples=18, class=<=50K.\n",
            "|   |   |   |   |   |   Leaf depth=6, samples=162, class=<=50K\n",
            "|   |   |   |   |   Split depth=5, feature=3, threshold=9.5000, gain=0.006546, samples=2442\n",
            "|   |   |   |   |   |   Leaf depth=6, samples=1573, class=>50K\n",
            "|   |   |   |   |   |   Leaf depth=6, samples=869, class=>50K\n",
            "|   |   |   |   Split depth=4, feature=0, threshold=36.5000, gain=0.009882, samples=299\n",
            "|   |   |   |   |   Split depth=5, feature=11, threshold=1989.5000, gain=0.042378, samples=76\n",
            "|   |   |   |   |   |   Leaf depth=6, samples=72, class=>50K\n",
            "|   |   |   |   |   |   Leaf depth=6, samples=4, class=<=50K\n",
            "|   |   |   |   |   Split depth=5, feature=0, threshold=39.5000, gain=0.011596, samples=223\n",
            "|   |   |   |   |   |   Leaf depth=6, samples=23, class=>50K\n",
            "|   |   |   |   |   |   Leaf depth=6, samples=200, class=>50K\n",
            "|   |   |   Split depth=3, feature=12, threshold=52.5000, gain=0.006113, samples=518\n",
            "|   |   |   |   Split depth=4, feature=6, threshold=9.0000, gain=0.012016, samples=388\n",
            "|   |   |   |   |   Split depth=5, feature=2, threshold=163454.0000, gain=0.012878, samples=165\n",
            "|   |   |   |   |   |   Leaf depth=6, samples=75, class=>50K\n",
            "|   |   |   |   |   |   Leaf depth=6, samples=90, class=>50K\n",
            "|   |   |   |   |   Split depth=5, feature=0, threshold=38.5000, gain=0.009445, samples=223\n",
            "|   |   |   |   |   |   Leaf depth=6, samples=56, class=>50K.\n",
            "|   |   |   |   |   |   Leaf depth=6, samples=167, class=>50K\n",
            "|   |   |   |   Split depth=4, feature=3, threshold=11.0000, gain=0.019416, samples=130\n",
            "|   |   |   |   |   Split depth=5, feature=0, threshold=30.5000, gain=0.026140, samples=69\n",
            "|   |   |   |   |   |   Leaf depth=6, samples=3, class=>50K.\n",
            "|   |   |   |   |   |   Leaf depth=6, samples=66, class=>50K\n",
            "|   |   |   |   |   Split depth=5, feature=2, threshold=81592.5000, gain=0.054307, samples=61\n",
            "|   |   |   |   |   |   Leaf depth=6, samples=10, class=>50K.\n",
            "|   |   |   |   |   |   Leaf depth=6, samples=51, class=>50K\n",
            "|   Split depth=1, feature=10, threshold=7055.5000, gain=0.020297, samples=16979\n",
            "|   |   Split depth=2, feature=7, threshold=4.5000, gain=0.011876, samples=16589\n",
            "|   |   |   Split depth=3, feature=6, threshold=0.5000, gain=0.010313, samples=15304\n",
            "|   |   |   |   Split depth=4, feature=0, threshold=50.5000, gain=0.000484, samples=732\n",
            "|   |   |   |   |   Leaf depth=5, samples=573, class=<=50K\n",
            "|   |   |   |   |   Split depth=5, feature=12, threshold=49.0000, gain=0.008522, samples=159\n",
            "|   |   |   |   |   |   Leaf depth=6, samples=154, class=<=50K\n",
            "|   |   |   |   |   |   Leaf depth=6, samples=5, class=<=50K\n",
            "|   |   |   |   Split depth=4, feature=11, threshold=2218.5000, gain=0.002536, samples=14572\n",
            "|   |   |   |   |   Split depth=5, feature=13, threshold=0.5000, gain=0.002180, samples=14481\n",
            "|   |   |   |   |   |   Leaf depth=6, samples=156, class=<=50K\n",
            "|   |   |   |   |   |   Leaf depth=6, samples=14325, class=<=50K\n",
            "|   |   |   |   |   Split depth=5, feature=11, threshold=2365.5000, gain=0.062950, samples=91\n",
            "|   |   |   |   |   |   Leaf depth=6, samples=42, class=<=50K\n",
            "|   |   |   |   |   |   Leaf depth=6, samples=49, class=>50K\n",
            "|   |   |   Split depth=3, feature=4, threshold=10.5000, gain=0.029904, samples=1285\n",
            "|   |   |   |   Split depth=4, feature=6, threshold=0.5000, gain=0.012800, samples=786\n",
            "|   |   |   |   |   Split depth=5, feature=10, threshold=4479.5000, gain=0.026508, samples=53\n",
            "|   |   |   |   |   |   Leaf depth=6, samples=52, class=<=50K\n",
            "|   |   |   |   |   |   Leaf depth=6, samples=1, class=>50K\n",
            "|   |   |   |   |   Split depth=5, feature=6, threshold=4.5000, gain=0.016448, samples=733\n",
            "|   |   |   |   |   |   Leaf depth=6, samples=332, class=<=50K\n",
            "|   |   |   |   |   |   Leaf depth=6, samples=401, class=<=50K\n",
            "|   |   |   |   Split depth=4, feature=0, threshold=24.5000, gain=0.012505, samples=499\n",
            "|   |   |   |   |   Split depth=5, feature=10, threshold=1551.5000, gain=0.072368, samples=20\n",
            "|   |   |   |   |   |   Leaf depth=6, samples=19, class=<=50K\n",
            "|   |   |   |   |   |   Leaf depth=6, samples=1, class=>50K.\n",
            "|   |   |   |   |   Split depth=5, feature=11, threshold=1794.0000, gain=0.010711, samples=479\n",
            "|   |   |   |   |   |   Leaf depth=6, samples=437, class=>50K\n",
            "|   |   |   |   |   |   Leaf depth=6, samples=42, class=>50K\n",
            "|   |   Split depth=2, feature=0, threshold=18.5000, gain=0.007688, samples=390\n",
            "|   |   |   Leaf depth=3, samples=2, class=<=50K\n",
            "|   |   |   Split depth=3, feature=13, threshold=11.5000, gain=0.007390, samples=388\n",
            "|   |   |   |   Leaf depth=4, samples=13, class=>50K\n",
            "|   |   |   |   Split depth=4, feature=0, threshold=38.5000, gain=0.007214, samples=375\n",
            "|   |   |   |   |   Split depth=5, feature=0, threshold=35.5000, gain=0.018591, samples=142\n",
            "|   |   |   |   |   |   Leaf depth=6, samples=101, class=>50K\n",
            "|   |   |   |   |   |   Leaf depth=6, samples=41, class=>50K\n",
            "|   |   |   |   |   Split depth=5, feature=7, threshold=1.5000, gain=0.010353, samples=233\n",
            "|   |   |   |   |   |   Leaf depth=6, samples=128, class=>50K\n",
            "|   |   |   |   |   |   Leaf depth=6, samples=105, class=>50K\n",
            "Tree built ✅\n",
            "Validation Accuracy: 0.5759, Test Accuracy: 0.5888\n",
            "\n",
            "Training tree with criterion = entropy ...\n",
            "Split depth=0, feature=7, threshold=0.5000, gain=0.116433, samples=28572\n",
            "|   Split depth=1, feature=4, threshold=12.5000, gain=0.094983, samples=11593\n",
            "|   |   Split depth=2, feature=10, threshold=5095.5000, gain=0.073229, samples=8154\n",
            "|   |   |   Split depth=3, feature=4, threshold=8.5000, gain=0.030059, samples=7755\n",
            "|   |   |   |   Split depth=4, feature=1, threshold=0.5000, gain=0.033915, samples=1341\n",
            "|   |   |   |   |   Leaf depth=5, samples=58, class=<=50K\n",
            "|   |   |   |   |   Split depth=5, feature=12, threshold=43.5000, gain=0.016345, samples=1283\n",
            "|   |   |   |   |   |   Leaf depth=6, samples=942, class=<=50K\n",
            "|   |   |   |   |   |   Leaf depth=6, samples=341, class=<=50K\n",
            "|   |   |   |   Split depth=4, feature=11, threshold=1782.5000, gain=0.026811, samples=6414\n",
            "|   |   |   |   |   Split depth=5, feature=0, threshold=35.5000, gain=0.017973, samples=6139\n",
            "|   |   |   |   |   |   Leaf depth=6, samples=1992, class=<=50K\n",
            "|   |   |   |   |   |   Leaf depth=6, samples=4147, class=<=50K\n",
            "|   |   |   |   |   Split depth=5, feature=11, threshold=1989.5000, gain=0.439827, samples=275\n",
            "|   |   |   |   |   |   Leaf depth=6, samples=206, class=>50K\n",
            "|   |   |   |   |   |   Leaf depth=6, samples=69, class=<=50K\n",
            "|   |   |   Split depth=3, feature=0, threshold=61.5000, gain=0.062597, samples=399\n",
            "|   |   |   |   Split depth=4, feature=12, threshold=87.0000, gain=0.017895, samples=354\n",
            "|   |   |   |   |   Split depth=5, feature=0, threshold=28.5000, gain=0.007209, samples=349\n",
            "|   |   |   |   |   |   Leaf depth=6, samples=12, class=>50K\n",
            "|   |   |   |   |   |   Leaf depth=6, samples=337, class=>50K\n",
            "|   |   |   |   |   Split depth=5, feature=1, threshold=5.0000, gain=0.970951, samples=5\n",
            "|   |   |   |   |   |   Leaf depth=6, samples=3, class=>50K\n",
            "|   |   |   |   |   |   Leaf depth=6, samples=2, class=<=50K.\n",
            "|   |   |   |   Split depth=4, feature=6, threshold=3.5000, gain=0.157826, samples=45\n",
            "|   |   |   |   |   Split depth=5, feature=0, threshold=73.0000, gain=0.193507, samples=10\n",
            "|   |   |   |   |   |   Leaf depth=6, samples=9, class=>50K\n",
            "|   |   |   |   |   |   Leaf depth=6, samples=1, class=<=50K\n",
            "|   |   |   |   |   Split depth=5, feature=12, threshold=22.0000, gain=0.180687, samples=35\n",
            "|   |   |   |   |   |   Leaf depth=6, samples=5, class=>50K\n",
            "|   |   |   |   |   |   Leaf depth=6, samples=30, class=>50K.\n",
            "|   |   Split depth=2, feature=10, threshold=5095.5000, gain=0.073665, samples=3439\n",
            "|   |   |   Split depth=3, feature=11, threshold=1794.0000, gain=0.044039, samples=2921\n",
            "|   |   |   |   Split depth=4, feature=12, threshold=31.0000, gain=0.025029, samples=2622\n",
            "|   |   |   |   |   Split depth=5, feature=2, threshold=68467.0000, gain=0.097755, samples=180\n",
            "|   |   |   |   |   |   Leaf depth=6, samples=18, class=<=50K.\n",
            "|   |   |   |   |   |   Leaf depth=6, samples=162, class=<=50K\n",
            "|   |   |   |   |   Split depth=5, feature=3, threshold=9.5000, gain=0.019036, samples=2442\n",
            "|   |   |   |   |   |   Leaf depth=6, samples=1573, class=>50K\n",
            "|   |   |   |   |   |   Leaf depth=6, samples=869, class=>50K\n",
            "|   |   |   |   Split depth=4, feature=11, threshold=1989.5000, gain=0.087580, samples=299\n",
            "|   |   |   |   |   Split depth=5, feature=13, threshold=6.0000, gain=0.020318, samples=244\n",
            "|   |   |   |   |   |   Leaf depth=6, samples=9, class=>50K\n",
            "|   |   |   |   |   |   Leaf depth=6, samples=235, class=>50K\n",
            "|   |   |   |   |   Split depth=5, feature=11, threshold=2151.5000, gain=0.606575, samples=55\n",
            "|   |   |   |   |   |   Leaf depth=6, samples=9, class=<=50K\n",
            "|   |   |   |   |   |   Leaf depth=6, samples=46, class=>50K\n",
            "|   |   |   Split depth=3, feature=1, threshold=0.5000, gain=0.017014, samples=518\n",
            "|   |   |   |   Split depth=4, feature=0, threshold=66.5000, gain=0.268996, samples=10\n",
            "|   |   |   |   |   Split depth=5, feature=0, threshold=65.5000, gain=1.000000, samples=2\n",
            "|   |   |   |   |   |   Leaf depth=6, samples=1, class=>50K\n",
            "|   |   |   |   |   |   Leaf depth=6, samples=1, class=<=50K\n",
            "|   |   |   |   |   Leaf depth=5, samples=8, class=>50K\n",
            "|   |   |   |   Split depth=4, feature=12, threshold=49.0000, gain=0.012439, samples=508\n",
            "|   |   |   |   |   Split depth=5, feature=13, threshold=1.0000, gain=0.018866, samples=259\n",
            "|   |   |   |   |   |   Leaf depth=6, samples=7, class=>50K\n",
            "|   |   |   |   |   |   Leaf depth=6, samples=252, class=>50K\n",
            "|   |   |   |   |   Split depth=5, feature=3, threshold=11.0000, gain=0.021904, samples=249\n",
            "|   |   |   |   |   |   Leaf depth=6, samples=137, class=>50K\n",
            "|   |   |   |   |   |   Leaf depth=6, samples=112, class=>50K\n",
            "|   Split depth=1, feature=10, threshold=7055.5000, gain=0.074250, samples=16979\n",
            "|   |   Split depth=2, feature=7, threshold=4.5000, gain=0.060471, samples=16589\n",
            "|   |   |   Split depth=3, feature=6, threshold=0.5000, gain=0.028722, samples=15304\n",
            "|   |   |   |   Split depth=4, feature=0, threshold=50.5000, gain=0.018233, samples=732\n",
            "|   |   |   |   |   Leaf depth=5, samples=573, class=<=50K\n",
            "|   |   |   |   |   Split depth=5, feature=12, threshold=42.5000, gain=0.040264, samples=159\n",
            "|   |   |   |   |   |   Leaf depth=6, samples=148, class=<=50K\n",
            "|   |   |   |   |   |   Leaf depth=6, samples=11, class=<=50K\n",
            "|   |   |   |   Split depth=4, feature=4, threshold=12.5000, gain=0.024951, samples=14572\n",
            "|   |   |   |   |   Split depth=5, feature=0, threshold=33.5000, gain=0.010940, samples=11615\n",
            "|   |   |   |   |   |   Leaf depth=6, samples=6587, class=<=50K\n",
            "|   |   |   |   |   |   Leaf depth=6, samples=5028, class=<=50K\n",
            "|   |   |   |   |   Split depth=5, feature=0, threshold=27.5000, gain=0.048329, samples=2957\n",
            "|   |   |   |   |   |   Leaf depth=6, samples=868, class=<=50K\n",
            "|   |   |   |   |   |   Leaf depth=6, samples=2089, class=<=50K\n",
            "|   |   |   Split depth=3, feature=4, threshold=10.5000, gain=0.083039, samples=1285\n",
            "|   |   |   |   Split depth=4, feature=6, threshold=0.5000, gain=0.041330, samples=786\n",
            "|   |   |   |   |   Split depth=5, feature=0, threshold=26.5000, gain=0.083789, samples=53\n",
            "|   |   |   |   |   |   Leaf depth=6, samples=14, class=<=50K\n",
            "|   |   |   |   |   |   Leaf depth=6, samples=39, class=<=50K\n",
            "|   |   |   |   |   Split depth=5, feature=6, threshold=4.5000, gain=0.043612, samples=733\n",
            "|   |   |   |   |   |   Leaf depth=6, samples=332, class=<=50K\n",
            "|   |   |   |   |   |   Leaf depth=6, samples=401, class=<=50K\n",
            "|   |   |   |   Split depth=4, feature=0, threshold=30.5000, gain=0.038761, samples=499\n",
            "|   |   |   |   |   Split depth=5, feature=0, threshold=24.5000, gain=0.078450, samples=118\n",
            "|   |   |   |   |   |   Leaf depth=6, samples=20, class=<=50K\n",
            "|   |   |   |   |   |   Leaf depth=6, samples=98, class=>50K\n",
            "|   |   |   |   |   Split depth=5, feature=11, threshold=1794.0000, gain=0.045815, samples=381\n",
            "|   |   |   |   |   |   Leaf depth=6, samples=347, class=>50K\n",
            "|   |   |   |   |   |   Leaf depth=6, samples=34, class=>50K\n",
            "|   |   Split depth=2, feature=0, threshold=20.5000, gain=0.037328, samples=390\n",
            "|   |   |   Split depth=3, feature=0, threshold=18.5000, gain=1.000000, samples=4\n",
            "|   |   |   |   Leaf depth=4, samples=2, class=<=50K\n",
            "|   |   |   |   Split depth=4, feature=2, threshold=195669.0000, gain=1.000000, samples=2\n",
            "|   |   |   |   |   Leaf depth=5, samples=1, class=>50K.\n",
            "|   |   |   |   |   Leaf depth=5, samples=1, class=<=50K.\n",
            "|   |   |   Split depth=3, feature=10, threshold=8296.0000, gain=0.032330, samples=386\n",
            "|   |   |   |   Split depth=4, feature=7, threshold=4.5000, gain=0.189304, samples=66\n",
            "|   |   |   |   |   Split depth=5, feature=4, threshold=10.5000, gain=0.455924, samples=18\n",
            "|   |   |   |   |   |   Leaf depth=6, samples=8, class=<=50K\n",
            "|   |   |   |   |   |   Leaf depth=6, samples=10, class=>50K\n",
            "|   |   |   |   |   Split depth=5, feature=2, threshold=89674.0000, gain=0.069432, samples=48\n",
            "|   |   |   |   |   |   Leaf depth=6, samples=8, class=>50K\n",
            "|   |   |   |   |   |   Leaf depth=6, samples=40, class=>50K\n",
            "|   |   |   |   Split depth=4, feature=13, threshold=11.5000, gain=0.021107, samples=320\n",
            "|   |   |   |   |   Leaf depth=5, samples=11, class=>50K\n",
            "|   |   |   |   |   Split depth=5, feature=0, threshold=52.5000, gain=0.017915, samples=309\n",
            "|   |   |   |   |   |   Leaf depth=6, samples=240, class=>50K\n",
            "|   |   |   |   |   |   Leaf depth=6, samples=69, class=>50K\n",
            "Tree built ✅\n",
            "Validation Accuracy: 0.5755, Test Accuracy: 0.5892\n",
            "\n",
            "Final results:\n",
            "  Criterion  Val_Accuracy  Test_Accuracy\n",
            "0      gini        0.5759         0.5888\n",
            "1   entropy        0.5755         0.5892\n"
          ]
        }
      ],
      "source": [
        "results = []\n",
        "for crit in [\"gini\", \"entropy\"]:\n",
        "    print(f\"\\nTraining tree with criterion = {crit} ...\")\n",
        "\n",
        "    tree = build_tree(\n",
        "        X_train.values,\n",
        "        y_train.values.ravel(),\n",
        "        max_depth=6,\n",
        "        criterion=crit\n",
        "    )\n",
        "    print(\"Tree built ✅\")\n",
        "\n",
        "    preds_val = predict(tree, X_val.values)\n",
        "    preds_test = predict(tree, X_test.values)\n",
        "\n",
        "    val_acc = accuracy_score(y_val, preds_val)\n",
        "    test_acc = accuracy_score(y_test, preds_test)\n",
        "\n",
        "    print(f\"Validation Accuracy: {val_acc:.4f}, Test Accuracy: {test_acc:.4f}\")\n",
        "\n",
        "    results.append({\n",
        "        \"Criterion\": crit,\n",
        "        \"Val_Accuracy\": val_acc,\n",
        "        \"Test_Accuracy\": test_acc\n",
        "    })\n",
        "\n",
        "df_results = pd.DataFrame(results)\n",
        "print(\"\\nFinal results:\")\n",
        "print(df_results.round(4))"
      ]
    },
    {
      "cell_type": "markdown",
      "metadata": {
        "id": "3D3y2kpG2NWh"
      },
      "source": [
        "## Comparing different Depths"
      ]
    },
    {
      "cell_type": "code",
      "execution_count": null,
      "metadata": {
        "id": "5F5eHVfq6t0v"
      },
      "outputs": [],
      "source": [
        "depths = [2, 4, 6, None]\n",
        "for d in depths:\n",
        "    tree, val_metrics, test_metrics = train_eval(max_depth=d, criterion=\"gini\")\n",
        "    print(f\"Depth={d}:  VAL {val_metrics}   TEST {test_metrics}\")"
      ]
    },
    {
      "cell_type": "markdown",
      "metadata": {
        "id": "-n1hqBj52NWi"
      },
      "source": [
        "## Showing Effect of Pruning"
      ]
    },
    {
      "cell_type": "code",
      "execution_count": null,
      "metadata": {
        "id": "wCvBvM__6vpf"
      },
      "outputs": [],
      "source": [
        "# A) FULL TREE (no pre-pruning)\n",
        "full_tree, val_full, test_full = train_eval(max_depth=None, criterion=\"gini\")\n",
        "results = {\n",
        "    \"FULL TREE\": {\"VAL\": val_full, \"TEST\": test_full}\n",
        "}\n",
        "\n",
        "# B) PRE-PRUNED (fixed depth = 4 for example)\n",
        "pre_tree, pre_val, pre_test = train_eval(max_depth=4, criterion=\"gini\", min_samples_split=5)\n",
        "results[\"PRE-PRUNED (depth=4)\"] = {\"VAL\": pre_val, \"TEST\": pre_test}\n",
        "\n",
        "# C) POST-PRUNED (reduced-error pruning)\n",
        "pruned_tree = prune_tree(full_tree, X_val.values, y_val.values.ravel())\n",
        "yva = predict(pruned_tree, X_val.values)\n",
        "yta = predict(pruned_tree, X_test.values)\n",
        "post_val = evaluate(y_val.values.ravel(), yva)\n",
        "post_test = evaluate(y_test.values.ravel(), yta)\n",
        "results[\"POST-PRUNED\"] = {\"VAL\": post_val, \"TEST\": post_test}\n",
        "\n",
        "# --- Print Summary Neatly ---\n",
        "print(\"=== Decision Tree Comparison (Validation vs Test) ===\\n\")\n",
        "for k, v in results.items():\n",
        "    print(f\"{k}:\")\n",
        "    print(f\"   VAL  → {v['VAL']}\")\n",
        "    print(f\"   TEST → {v['TEST']}\\n\")\n"
      ]
    },
    {
      "cell_type": "markdown",
      "metadata": {
        "id": "LhLGqsbC2NWi"
      },
      "source": [
        "## Identifying the most important features"
      ]
    },
    {
      "cell_type": "code",
      "execution_count": null,
      "metadata": {
        "id": "TTI9FmxT6xte"
      },
      "outputs": [],
      "source": [
        "feat_names = np.array(list(X_train.columns))\n",
        "\n",
        "def root_feature_name(tree):\n",
        "    return feat_names[tree.feature] if tree.feature is not None else None\n",
        "\n",
        "def collect_split_counts(node, counts):\n",
        "    if node is None or node.value is not None:\n",
        "        return\n",
        "    counts[node.feature] = counts.get(node.feature, 0) + 1\n",
        "    collect_split_counts(node.left, counts)\n",
        "    collect_split_counts(node.right, counts)\n",
        "\n",
        "def top_k_features(node, k=5):\n",
        "    counts = {}\n",
        "    collect_split_counts(node, counts)\n",
        "    order = sorted(counts.items(), key=lambda x: x[1], reverse=True)[:k]\n",
        "    return [(feat_names[i], c) for i, c in order]\n",
        "\n",
        "print(\"Root feature:\", root_feature_name(best[\"tree\"]))\n",
        "print(\"Top split features:\", top_k_features(best[\"tree\"], k=10))"
      ]
    }
  ],
  "metadata": {
    "colab": {
      "provenance": [],
      "gpuType": "T4"
    },
    "kernelspec": {
      "display_name": "Python 3",
      "name": "python3"
    },
    "language_info": {
      "codemirror_mode": {
        "name": "ipython",
        "version": 3
      },
      "file_extension": ".py",
      "mimetype": "text/x-python",
      "name": "python",
      "nbconvert_exporter": "python",
      "pygments_lexer": "ipython3",
      "version": "3.10.5"
    },
    "accelerator": "GPU"
  },
  "nbformat": 4,
  "nbformat_minor": 0
}