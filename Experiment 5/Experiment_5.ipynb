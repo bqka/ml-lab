{
  "cells": [
    {
      "cell_type": "code",
      "execution_count": null,
      "metadata": {},
      "outputs": [],
      "source": [
        "## Experiment performed by:\n",
        "## Aditya Mendiratta 23/CS/027"
      ]
    },
    {
      "cell_type": "markdown",
      "metadata": {
        "id": "2pu95Vfs7Nf9"
      },
      "source": [
        "# Decision Tree Implementation from Scratch"
      ]
    },
    {
      "cell_type": "markdown",
      "metadata": {},
      "source": [
        "## Impporting Important Libraries"
      ]
    },
    {
      "cell_type": "code",
      "execution_count": 1,
      "metadata": {},
      "outputs": [
        {
          "ename": "ModuleNotFoundError",
          "evalue": "No module named 'pandas'",
          "output_type": "error",
          "traceback": [
            "\u001b[1;31m---------------------------------------------------------------------------\u001b[0m",
            "\u001b[1;31mModuleNotFoundError\u001b[0m                       Traceback (most recent call last)",
            "Cell \u001b[1;32mIn[1], line 1\u001b[0m\n\u001b[1;32m----> 1\u001b[0m \u001b[38;5;28;01mimport\u001b[39;00m\u001b[38;5;250m \u001b[39m\u001b[38;5;21;01mpandas\u001b[39;00m\u001b[38;5;250m \u001b[39m\u001b[38;5;28;01mas\u001b[39;00m\u001b[38;5;250m \u001b[39m\u001b[38;5;21;01mpd\u001b[39;00m\n\u001b[0;32m      2\u001b[0m \u001b[38;5;28;01mimport\u001b[39;00m\u001b[38;5;250m \u001b[39m\u001b[38;5;21;01mnumpy\u001b[39;00m\u001b[38;5;250m \u001b[39m\u001b[38;5;28;01mas\u001b[39;00m\u001b[38;5;250m \u001b[39m\u001b[38;5;21;01mnp\u001b[39;00m\n\u001b[0;32m      3\u001b[0m \u001b[38;5;28;01mfrom\u001b[39;00m\u001b[38;5;250m \u001b[39m\u001b[38;5;21;01msklearn\u001b[39;00m\u001b[38;5;21;01m.\u001b[39;00m\u001b[38;5;21;01mpreprocessing\u001b[39;00m\u001b[38;5;250m \u001b[39m\u001b[38;5;28;01mimport\u001b[39;00m LabelEncoder\n",
            "\u001b[1;31mModuleNotFoundError\u001b[0m: No module named 'pandas'"
          ]
        }
      ],
      "source": [
        "import pandas as pd\n",
        "import numpy as np\n",
        "from sklearn.preprocessing import LabelEncoder\n",
        "from sklearn.model_selection import train_test_split\n",
        "from sklearn.metrics import accuracy_score, precision_score, recall_score, f1_score"
      ]
    },
    {
      "cell_type": "markdown",
      "metadata": {},
      "source": [
        "## Importing Dataset"
      ]
    },
    {
      "cell_type": "code",
      "execution_count": 23,
      "metadata": {
        "id": "a8EMdfqP2-2P"
      },
      "outputs": [],
      "source": [
        "from ucimlrepo import fetch_ucirepo"
      ]
    },
    {
      "cell_type": "code",
      "execution_count": 24,
      "metadata": {
        "id": "0m7gRRNQ3B_E"
      },
      "outputs": [],
      "source": [
        "adult = fetch_ucirepo(id=2)\n",
        "X = adult.data.features\n",
        "y = adult.data.targets"
      ]
    },
    {
      "cell_type": "markdown",
      "metadata": {},
      "source": [
        "## Handling Missing Values"
      ]
    },
    {
      "cell_type": "code",
      "execution_count": 25,
      "metadata": {
        "colab": {
          "base_uri": "https://localhost:8080/"
        },
        "id": "xe6sgDbO3kDy",
        "outputId": "c2d4df76-b57b-4e98-a8e8-afa4045b700d"
      },
      "outputs": [
        {
          "name": "stdout",
          "output_type": "stream",
          "text": [
            "age                 0\n",
            "workclass         963\n",
            "fnlwgt              0\n",
            "education           0\n",
            "education-num       0\n",
            "marital-status      0\n",
            "occupation        966\n",
            "relationship        0\n",
            "race                0\n",
            "sex                 0\n",
            "capital-gain        0\n",
            "capital-loss        0\n",
            "hours-per-week      0\n",
            "native-country    274\n",
            "dtype: int64\n"
          ]
        }
      ],
      "source": [
        "print(X.isnull().sum())\n",
        "\n",
        "X = X.dropna()\n",
        "y = y.loc[X.index]"
      ]
    },
    {
      "cell_type": "markdown",
      "metadata": {},
      "source": [
        "## Encode categorical columns"
      ]
    },
    {
      "cell_type": "code",
      "execution_count": 26,
      "metadata": {
        "id": "IBXNtYlL3sK4"
      },
      "outputs": [],
      "source": [
        "encoders = {}\n",
        "for col in X.select_dtypes(include=['object']).columns:\n",
        "    le = LabelEncoder()\n",
        "    X.loc[:, col] = le.fit_transform(X[col])\n",
        "    encoders[col] = le"
      ]
    },
    {
      "cell_type": "markdown",
      "metadata": {},
      "source": [
        "## Splitting the Dataset"
      ]
    },
    {
      "cell_type": "code",
      "execution_count": 27,
      "metadata": {
        "colab": {
          "base_uri": "https://localhost:8080/"
        },
        "id": "oW2rBNZj4Mmt",
        "outputId": "cb955b11-82d5-4658-e3de-c16113a3b61e"
      },
      "outputs": [
        {
          "name": "stdout",
          "output_type": "stream",
          "text": [
            "(28572, 14) (9524, 14) (9525, 14)\n"
          ]
        }
      ],
      "source": [
        "# First split into train + temp (60/40)\n",
        "X_train, X_temp, y_train, y_temp = train_test_split(X, y, test_size=0.4, random_state=42)\n",
        "\n",
        "# Split temp into validation (20%) and test (20%)\n",
        "X_val, X_test, y_val, y_test = train_test_split(X_temp, y_temp, test_size=0.5, random_state=42)\n",
        "\n",
        "print(X_train.shape, X_val.shape, X_test.shape)"
      ]
    },
    {
      "cell_type": "markdown",
      "metadata": {},
      "source": [
        "## Functions to Calculate Entropy and Gini"
      ]
    },
    {
      "cell_type": "code",
      "execution_count": 28,
      "metadata": {
        "id": "CoNM8Wl-4iTU"
      },
      "outputs": [],
      "source": [
        "# Entropy\n",
        "def entropy(y):\n",
        "    values, counts = np.unique(y, return_counts=True)\n",
        "    probs = counts / counts.sum()\n",
        "    return -np.sum(probs * np.log2(probs + 1e-9))  # avoid log(0)\n",
        "\n",
        "# Gini\n",
        "def gini(y):\n",
        "    values, counts = np.unique(y, return_counts=True)\n",
        "    probs = counts / counts.sum()\n",
        "    return 1 - np.sum(probs ** 2)"
      ]
    },
    {
      "cell_type": "markdown",
      "metadata": {},
      "source": [
        "## Function to decide the Best Split"
      ]
    },
    {
      "cell_type": "code",
      "execution_count": 29,
      "metadata": {
        "id": "1cdBglDR4kyT"
      },
      "outputs": [],
      "source": [
        "def best_split(X, y, criterion=\"gini\"):\n",
        "    best_feature, best_thresh, best_gain = None, None, -1\n",
        "    n_samples, n_features = X.shape\n",
        "    base_impurity = gini(y) if criterion == \"gini\" else entropy(y)\n",
        "\n",
        "    for feature in range(n_features):\n",
        "        thresholds = np.unique(X[:, feature])\n",
        "        for thresh in thresholds:\n",
        "            left_idx = X[:, feature] <= thresh\n",
        "            right_idx = X[:, feature] > thresh\n",
        "            if len(y[left_idx]) == 0 or len(y[right_idx]) == 0:\n",
        "                continue\n",
        "\n",
        "            left_imp = gini(y[left_idx]) if criterion == \"gini\" else entropy(y[left_idx])\n",
        "            right_imp = gini(y[right_idx]) if criterion == \"gini\" else entropy(y[right_idx])\n",
        "\n",
        "            n_left, n_right = len(y[left_idx]), len(y[right_idx])\n",
        "            weighted_impurity = (n_left * left_imp + n_right * right_imp) / n_samples\n",
        "            gain = base_impurity - weighted_impurity\n",
        "\n",
        "            if gain > best_gain:\n",
        "                best_gain = gain\n",
        "                best_feature = feature\n",
        "                best_thresh = thresh\n",
        "\n",
        "    return best_feature, best_thresh, best_gain"
      ]
    },
    {
      "cell_type": "markdown",
      "metadata": {},
      "source": [
        "## Defining the Nodes of the Decision Tree"
      ]
    },
    {
      "cell_type": "code",
      "execution_count": 30,
      "metadata": {
        "id": "ebqAUpdY4nFq"
      },
      "outputs": [],
      "source": [
        "class Node:\n",
        "    def __init__(self, feature=None, threshold=None, left=None, right=None, *, value=None):\n",
        "        self.feature = feature\n",
        "        self.threshold = threshold\n",
        "        self.left = left\n",
        "        self.right = right\n",
        "        self.value = value   # prediction if leaf"
      ]
    },
    {
      "cell_type": "code",
      "execution_count": 31,
      "metadata": {
        "id": "zPF2yxUM4pyM"
      },
      "outputs": [],
      "source": [
        "# def build_tree(X, y, depth=0, max_depth=5, criterion=\"gini\"):\n",
        "#     # If pure or max depth reached → leaf node\n",
        "#     if len(np.unique(y)) == 1 or depth >= max_depth:\n",
        "#         values, counts = np.unique(y, return_counts=True)\n",
        "#         return Node(value=values[np.argmax(counts)])\n",
        "\n",
        "#     # Find best split\n",
        "#     feature, threshold, gain = best_split(X, y, criterion)\n",
        "#     if gain == -1:  # no improvement\n",
        "#         values, counts = np.unique(y, return_counts=True)\n",
        "#         return Node(value=values[np.argmax(counts)])\n",
        "\n",
        "#     left_idx = X[:, feature] <= threshold\n",
        "#     right_idx = X[:, feature] > threshold\n",
        "\n",
        "#     left_child = build_tree(X[left_idx], y[left_idx], depth + 1, max_depth, criterion)\n",
        "#     right_child = build_tree(X[right_idx], y[right_idx], depth + 1, max_depth, criterion)\n",
        "\n",
        "#     return Node(feature, threshold, left_child, right_child)"
      ]
    },
    {
      "cell_type": "markdown",
      "metadata": {},
      "source": [
        "## Function to Predict the Sample according to the given Tree"
      ]
    },
    {
      "cell_type": "code",
      "execution_count": 32,
      "metadata": {
        "id": "aon0WNcR4r3z"
      },
      "outputs": [],
      "source": [
        "def predict_sample(node, x):\n",
        "    if node.value is not None:\n",
        "        return node.value\n",
        "    if x[node.feature] <= node.threshold:\n",
        "        return predict_sample(node.left, x)\n",
        "    else:\n",
        "        return predict_sample(node.right, x)\n",
        "\n",
        "def predict(node, X):\n",
        "    return np.array([predict_sample(node, sample) for sample in X])"
      ]
    },
    {
      "cell_type": "markdown",
      "metadata": {
        "id": "AzStqRvp5AGI"
      },
      "source": [
        "## Pre-Pruning"
      ]
    },
    {
      "cell_type": "code",
      "execution_count": 33,
      "metadata": {
        "id": "Xa9gXAcB5D4Y"
      },
      "outputs": [],
      "source": [
        "def build_tree(X, y, depth=0, max_depth=None, min_samples_split=2, min_impurity_decrease=1e-7, criterion=\"gini\"):\n",
        "    n_samples, n_features = X.shape\n",
        "\n",
        "    # Leaf condition: pure node OR max_depth reached OR not enough samples\n",
        "    if (len(np.unique(y)) == 1\n",
        "        or (max_depth is not None and depth >= max_depth)\n",
        "        or n_samples < min_samples_split):\n",
        "        values, counts = np.unique(y, return_counts=True)\n",
        "        return Node(value=values[np.argmax(counts)])\n",
        "\n",
        "    # Find best split\n",
        "    feature, threshold, gain = best_split(X, y, criterion)\n",
        "    if gain < min_impurity_decrease:  # no significant improvement\n",
        "        values, counts = np.unique(y, return_counts=True)\n",
        "        return Node(value=values[np.argmax(counts)])\n",
        "\n",
        "    # Split dataset\n",
        "    left_idx = X[:, feature] <= threshold\n",
        "    right_idx = X[:, feature] > threshold\n",
        "\n",
        "    left_child = build_tree(X[left_idx], y[left_idx], depth + 1, max_depth, min_samples_split, min_impurity_decrease, criterion)\n",
        "    right_child = build_tree(X[right_idx], y[right_idx], depth + 1, max_depth, min_samples_split, min_impurity_decrease, criterion)\n",
        "\n",
        "    return Node(feature, threshold, left_child, right_child)"
      ]
    },
    {
      "cell_type": "code",
      "execution_count": 34,
      "metadata": {
        "colab": {
          "base_uri": "https://localhost:8080/"
        },
        "id": "dubcBjJn5HrZ",
        "outputId": "f297bda4-0f8d-4f8b-d485-0d111ed5e38a"
      },
      "outputs": [],
      "source": [
        "# for d in [2, 4, 6, None]:   # None = unlimited\n",
        "#     tree = build_tree(X_train.values, y_train.values.ravel(), max_depth=d, min_samples_split=5, criterion=\"gini\")\n",
        "#     preds = predict(tree, X_val.values)\n",
        "#     acc = (preds == y_val.values.ravel()).mean()\n",
        "#     print(f\"Max Depth={d}, Validation Accuracy={acc:.4f}\")"
      ]
    },
    {
      "cell_type": "markdown",
      "metadata": {
        "id": "54-k7mlI5Nfh"
      },
      "source": [
        "## Post-Pruning"
      ]
    },
    {
      "cell_type": "code",
      "execution_count": 35,
      "metadata": {
        "id": "HYp6QM0X5PoB"
      },
      "outputs": [],
      "source": [
        "def majority_class(y):\n",
        "    values, counts = np.unique(y, return_counts=True)\n",
        "    return values[np.argmax(counts)]\n",
        "\n",
        "def prune_tree(node, X_val, y_val):\n",
        "    if node.value is not None:\n",
        "        return node\n",
        "\n",
        "    node.left = prune_tree(node.left, X_val, y_val)\n",
        "    node.right = prune_tree(node.right, X_val, y_val)\n",
        "\n",
        "    preds_before = predict(node, X_val)\n",
        "    acc_before = (preds_before == y_val).mean()\n",
        "\n",
        "    backup_left, backup_right = node.left, node.right\n",
        "\n",
        "    node.left = node.right = None\n",
        "    node.value = majority_class(y_val)\n",
        "\n",
        "    preds_after = predict(node, X_val)\n",
        "    acc_after = (preds_after == y_val).mean()\n",
        "\n",
        "    if acc_after < acc_before:\n",
        "        node.left, node.right = backup_left, backup_right\n",
        "        node.value = None\n",
        "\n",
        "    return node"
      ]
    },
    {
      "cell_type": "code",
      "execution_count": 36,
      "metadata": {
        "colab": {
          "base_uri": "https://localhost:8080/"
        },
        "id": "UUDugm5Y5kah",
        "outputId": "59bfb56d-9b43-4220-b0c9-13304ae9321d"
      },
      "outputs": [],
      "source": [
        "# tree = build_tree(X_train.values, y_train.values.ravel(), max_depth=None, criterion=\"gini\")\n",
        "\n",
        "# before_acc = (predict(tree, X_val.values) == y_val.values.ravel()).mean()\n",
        "# print(\"Validation Accuracy before pruning:\", before_acc)\n",
        "\n",
        "# tree = prune_tree(tree, X_val.values, y_val.values.ravel())\n",
        "\n",
        "# after_acc = (predict(tree, X_val.values) == y_val.values.ravel()).mean()\n",
        "# print(\"Validation Accuracy after pruning:\", after_acc)"
      ]
    },
    {
      "cell_type": "code",
      "execution_count": 37,
      "metadata": {
        "colab": {
          "base_uri": "https://localhost:8080/"
        },
        "id": "Re9QqEDQXOgT",
        "outputId": "90c8b4fb-c9a3-47d0-abff-800900206b68"
      },
      "outputs": [],
      "source": [
        "# def clean_labels(arr):\n",
        "#     return np.array([str(label).strip().replace(\".\", \"\") for label in arr])\n",
        "\n",
        "# # Clean y_true and y_pred_test\n",
        "# y_true = clean_labels(y_test.squeeze().to_numpy())\n",
        "# y_pred_test = clean_labels(y_pred_test)\n",
        "\n",
        "# print(np.unique(y_true))\n",
        "# print(np.unique(y_pred_test))"
      ]
    },
    {
      "cell_type": "markdown",
      "metadata": {
        "id": "U2_XtLAV54j6"
      },
      "source": [
        "<!-- ###**Evaluation** -->"
      ]
    },
    {
      "cell_type": "code",
      "execution_count": 38,
      "metadata": {
        "colab": {
          "base_uri": "https://localhost:8080/"
        },
        "id": "Y_M-n1w456-B",
        "outputId": "decd8583-d4e7-4366-a4fb-c4d83cd50f13"
      },
      "outputs": [],
      "source": [
        "# from sklearn.metrics import accuracy_score, precision_score, recall_score, f1_score, confusion_matrix\n",
        "\n",
        "# tree = build_tree(X_train.values, y_train.values.ravel(), max_depth=6, criterion=\"gini\")\n",
        "\n",
        "# # Evaluate\n",
        "# print(\"=== Scratch Decision Tree ===\")\n",
        "# print(\"Accuracy:\", accuracy_score(y_true, y_pred_test))\n",
        "# print(\"Precision:\", precision_score(y_true, y_pred_test, pos_label=\">50K\"))\n",
        "# print(\"Recall:\", recall_score(y_true, y_pred_test, pos_label=\">50K\"))\n",
        "# print(\"F1-score:\", f1_score(y_true, y_pred_test, pos_label=\">50K\"))\n",
        "# print(\"Confusion Matrix:\\n\", confusion_matrix(y_true, y_pred_test))"
      ]
    },
    {
      "cell_type": "code",
      "execution_count": 39,
      "metadata": {
        "id": "JWV16iEVdvdg"
      },
      "outputs": [],
      "source": [
        "# def clean_labels(arr):\n",
        "#     return np.array([str(label).strip().replace(\".\", \"\") for label in arr])\n",
        "\n",
        "# y_true = clean_labels(y_test.squeeze().to_numpy())\n",
        "# y_pred_sklearn = clean_labels(y_pred_sklearn)"
      ]
    },
    {
      "cell_type": "code",
      "execution_count": 40,
      "metadata": {
        "colab": {
          "base_uri": "https://localhost:8080/"
        },
        "id": "qcL-rlzH57xo",
        "outputId": "36cecfda-98f5-4f6f-9925-275ac2b20164"
      },
      "outputs": [],
      "source": [
        "# from sklearn.metrics import accuracy_score, precision_score, recall_score, f1_score, confusion_matrix\n",
        "\n",
        "# print(\"\\n=== Sklearn Decision Tree ===\")\n",
        "# print(\"Accuracy:\", accuracy_score(y_true, y_pred_sklearn))\n",
        "# print(\"Precision:\", precision_score(y_true, y_pred_sklearn, pos_label=\">50K\"))\n",
        "# print(\"Recall:\", recall_score(y_true, y_pred_sklearn, pos_label=\">50K\"))\n",
        "# print(\"F1-score:\", f1_score(y_true, y_pred_sklearn, pos_label=\">50K\"))\n",
        "# print(\"Confusion Matrix:\\n\", confusion_matrix(y_true, y_pred_sklearn))"
      ]
    },
    {
      "cell_type": "markdown",
      "metadata": {
        "id": "gHkOOUb46nuy"
      },
      "source": [
        "## Performing the Main Experiments"
      ]
    },
    {
      "cell_type": "code",
      "execution_count": 41,
      "metadata": {
        "id": "_llpr-d46pqA"
      },
      "outputs": [],
      "source": [
        "def clean_labels(arr):\n",
        "    return np.array([str(label).strip().replace(\".\", \"\") for label in arr])\n",
        "\n",
        "def evaluate(y_true, y_pred):\n",
        "    y_true = clean_labels(y_true)\n",
        "    y_pred = clean_labels(y_pred)\n",
        "    return {\n",
        "        \"Accuracy\": accuracy_score(y_true, y_pred),\n",
        "        \"Precision\": precision_score(y_true, y_pred, pos_label=\">50K\"),\n",
        "        \"Recall\": recall_score(y_true, y_pred, pos_label=\">50K\"),\n",
        "        \"F1\": f1_score(y_true, y_pred, pos_label=\">50K\")\n",
        "    }\n",
        "\n",
        "def train_eval(max_depth=None, criterion=\"gini\", min_samples_split=2, min_impurity_decrease=1e-7):\n",
        "    tree = build_tree(\n",
        "        X_train.values, y_train.values.ravel(),\n",
        "        max_depth=max_depth,\n",
        "        min_samples_split=min_samples_split,\n",
        "        min_impurity_decrease=min_impurity_decrease,\n",
        "        criterion=criterion\n",
        "    )\n",
        "    yv = predict(tree, X_val.values)\n",
        "    yt = predict(tree, X_test.values)\n",
        "    return tree, evaluate(y_val.values.ravel(), yv), evaluate(y_test.values.ravel(), yt)"
      ]
    },
    {
      "cell_type": "markdown",
      "metadata": {},
      "source": [
        "## Comparing both Gini and Entropy"
      ]
    },
    {
      "cell_type": "code",
      "execution_count": null,
      "metadata": {
        "colab": {
          "base_uri": "https://localhost:8080/",
          "height": 112
        },
        "id": "NEywX8VT6sMR",
        "outputId": "fdd074a0-baa2-49f5-eedb-fc31cff020ea"
      },
      "outputs": [],
      "source": [
        "results = []\n",
        "for crit in [\"gini\", \"entropy\"]:\n",
        "    tree = build_tree(X_train.values, y_train.values.ravel(), max_depth=6, criterion=crit)\n",
        "    preds_val = predict(tree, X_val.values)\n",
        "    preds_test = predict(tree, X_test.values)\n",
        "    results.append({\n",
        "        \"Criterion\": crit,\n",
        "        \"Val_Accuracy\": accuracy_score(y_val, preds_val),\n",
        "        \"Test_Accuracy\": accuracy_score(y_test, preds_test)\n",
        "    })\n",
        "\n",
        "pd.DataFrame(results)"
      ]
    },
    {
      "cell_type": "markdown",
      "metadata": {},
      "source": [
        "## Comparing different Depths"
      ]
    },
    {
      "cell_type": "code",
      "execution_count": null,
      "metadata": {
        "colab": {
          "base_uri": "https://localhost:8080/"
        },
        "id": "5F5eHVfq6t0v",
        "outputId": "8375b4bf-082a-48e1-ca4f-10e74635544b"
      },
      "outputs": [
        {
          "name": "stdout",
          "output_type": "stream",
          "text": [
            "Depth=2:  VAL {'Accuracy': 0.8183536329273414, 'Precision': 0.731839258114374, 'Recall': 0.40643776824034333, 'F1': 0.5226269315673289}   TEST {'Accuracy': 0.8228871391076116, 'Precision': 0.760361718161266, 'Recall': 0.42430613961312025, 'F1': 0.5446693657219973}\n",
            "Depth=4:  VAL {'Accuracy': 0.8393532129357413, 'Precision': 0.7406738868832732, 'Recall': 0.5283261802575108, 'F1': 0.6167334669338678}   TEST {'Accuracy': 0.8464041994750656, 'Precision': 0.7686435701702877, 'Recall': 0.5504625735912532, 'F1': 0.6415094339622641}\n",
            "Depth=6:  VAL {'Accuracy': 0.8456530869382612, 'Precision': 0.7731893265565438, 'Recall': 0.5223175965665237, 'F1': 0.6234631147540983}   TEST {'Accuracy': 0.8522834645669292, 'Precision': 0.7991373998767715, 'Recall': 0.5454163162321278, 'F1': 0.6483379155211197}\n",
            "Depth=None:  VAL {'Accuracy': 0.8012389752204956, 'Precision': 0.5951240748802786, 'Recall': 0.5866952789699571, 'F1': 0.5908796196239464}   TEST {'Accuracy': 0.8133333333333334, 'Precision': 0.6260504201680672, 'Recall': 0.6265769554247267, 'F1': 0.6263135771332493}\n"
          ]
        }
      ],
      "source": [
        "depths = [2, 4, 6, None]\n",
        "for d in depths:\n",
        "    tree, val_metrics, test_metrics = train_eval(max_depth=d, criterion=\"gini\")\n",
        "    print(f\"Depth={d}:  VAL {val_metrics}   TEST {test_metrics}\")"
      ]
    },
    {
      "cell_type": "markdown",
      "metadata": {},
      "source": [
        "## Showing Effect of Pruning"
      ]
    },
    {
      "cell_type": "code",
      "execution_count": null,
      "metadata": {
        "colab": {
          "base_uri": "https://localhost:8080/"
        },
        "id": "wCvBvM__6vpf",
        "outputId": "6498c14f-ee3f-47a1-e845-90ed3425b660"
      },
      "outputs": [
        {
          "name": "stdout",
          "output_type": "stream",
          "text": [
            "FULL TREE:\n",
            "   VAL  → {'Accuracy': 0.8012389752204956, 'Precision': 0.5951240748802786, 'Recall': 0.5866952789699571, 'F1': 0.5908796196239464}\n",
            "   TEST → {'Accuracy': 0.8133333333333334, 'Precision': 0.6260504201680672, 'Recall': 0.6265769554247267, 'F1': 0.6263135771332493}\n",
            "\n",
            "PRE-PRUNED:\n",
            "   VAL  → {'Accuracy': 0.8456530869382612, 'Precision': 0.7731893265565438, 'Recall': 0.5223175965665237, 'F1': 0.6234631147540983}\n",
            "   TEST → {'Accuracy': 0.8522834645669292, 'Precision': 0.7991373998767715, 'Recall': 0.5454163162321278, 'F1': 0.6483379155211197}\n",
            "\n",
            "POST-PRUNED:\n",
            "   VAL  → {'Accuracy': 0.7555648887022259, 'Precision': 1.0, 'Recall': 0.0008583690987124463, 'F1': 0.0017152658662092624}\n",
            "   TEST → {'Accuracy': 0.7504461942257218, 'Precision': 0.6666666666666666, 'Recall': 0.0008410428931875525, 'F1': 0.0016799664006719867}\n",
            "\n"
          ]
        }
      ],
      "source": [
        "# A) FULL TREE (no pre-pruning)\n",
        "full_tree, val_full, test_full = train_eval(max_depth=None, criterion=\"gini\")\n",
        "results = {\n",
        "    \"FULL TREE\": {\"VAL\": val_full, \"TEST\": test_full}\n",
        "}\n",
        "\n",
        "# B) PRE-PRUNED (fixed depth = 4 for example)\n",
        "pre_tree, pre_val, pre_test = train_eval(max_depth=4, criterion=\"gini\", min_samples_split=5)\n",
        "results[\"PRE-PRUNED (depth=4)\"] = {\"VAL\": pre_val, \"TEST\": pre_test}\n",
        "\n",
        "# C) POST-PRUNED (reduced-error pruning)\n",
        "pruned_tree = prune_tree(full_tree, X_val.values, y_val.values.ravel())\n",
        "yva = predict(pruned_tree, X_val.values)\n",
        "yta = predict(pruned_tree, X_test.values)\n",
        "post_val = evaluate(y_val.values.ravel(), yva)\n",
        "post_test = evaluate(y_test.values.ravel(), yta)\n",
        "results[\"POST-PRUNED\"] = {\"VAL\": post_val, \"TEST\": post_test}\n",
        "\n",
        "# --- Print Summary Neatly ---\n",
        "print(\"=== Decision Tree Comparison (Validation vs Test) ===\\n\")\n",
        "for k, v in results.items():\n",
        "    print(f\"{k}:\")\n",
        "    print(f\"   VAL  → {v['VAL']}\")\n",
        "    print(f\"   TEST → {v['TEST']}\\n\")\n"
      ]
    },
    {
      "cell_type": "markdown",
      "metadata": {},
      "source": [
        "## Identifying the most important features"
      ]
    },
    {
      "cell_type": "code",
      "execution_count": null,
      "metadata": {
        "colab": {
          "base_uri": "https://localhost:8080/"
        },
        "id": "TTI9FmxT6xte",
        "outputId": "c6023473-9e3e-4653-8549-ff2e5d1fb8af"
      },
      "outputs": [
        {
          "name": "stdout",
          "output_type": "stream",
          "text": [
            "Root feature: relationship\n",
            "Top split features: [(np.str_('age'), 12), (np.str_('capital-loss'), 8), (np.str_('capital-gain'), 6), (np.str_('occupation'), 5), (np.str_('education-num'), 4), (np.str_('hours-per-week'), 4), (np.str_('fnlwgt'), 4), (np.str_('relationship'), 3), (np.str_('workclass'), 2), (np.str_('education'), 2)]\n"
          ]
        }
      ],
      "source": [
        "feat_names = np.array(list(X_train.columns))\n",
        "\n",
        "def root_feature_name(tree):\n",
        "    return feat_names[tree.feature] if tree.feature is not None else None\n",
        "\n",
        "def collect_split_counts(node, counts):\n",
        "    if node is None or node.value is not None:\n",
        "        return\n",
        "    counts[node.feature] = counts.get(node.feature, 0) + 1\n",
        "    collect_split_counts(node.left, counts)\n",
        "    collect_split_counts(node.right, counts)\n",
        "\n",
        "def top_k_features(node, k=5):\n",
        "    counts = {}\n",
        "    collect_split_counts(node, counts)\n",
        "    order = sorted(counts.items(), key=lambda x: x[1], reverse=True)[:k]\n",
        "    return [(feat_names[i], c) for i, c in order]\n",
        "\n",
        "print(\"Root feature:\", root_feature_name(best[\"tree\"]))\n",
        "print(\"Top split features:\", top_k_features(best[\"tree\"], k=10))"
      ]
    }
  ],
  "metadata": {
    "colab": {
      "provenance": []
    },
    "kernelspec": {
      "display_name": "Python 3",
      "language": "python",
      "name": "python3"
    },
    "language_info": {
      "codemirror_mode": {
        "name": "ipython",
        "version": 3
      },
      "file_extension": ".py",
      "mimetype": "text/x-python",
      "name": "python",
      "nbconvert_exporter": "python",
      "pygments_lexer": "ipython3",
      "version": "3.10.5"
    }
  },
  "nbformat": 4,
  "nbformat_minor": 0
}
